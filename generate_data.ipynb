{
 "cells": [
  {
   "cell_type": "code",
   "execution_count": 1,
   "id": "7fbb76af-8dd0-4f01-970a-f2c8614e6283",
   "metadata": {},
   "outputs": [],
   "source": [
    "import pandas as pd"
   ]
  },
  {
   "cell_type": "code",
   "execution_count": 2,
   "id": "25df11f1-0eee-4f06-b2c1-54a1ec59752f",
   "metadata": {},
   "outputs": [],
   "source": [
    "viol_place_df = pd.read_json(\"./place_violations_table.json\")"
   ]
  },
  {
   "cell_type": "code",
   "execution_count": 3,
   "id": "29c0fc4a-1bb0-4878-841a-528494ed450c",
   "metadata": {},
   "outputs": [
    {
     "data": {
      "text/html": [
       "<div>\n",
       "<style scoped>\n",
       "    .dataframe tbody tr th:only-of-type {\n",
       "        vertical-align: middle;\n",
       "    }\n",
       "\n",
       "    .dataframe tbody tr th {\n",
       "        vertical-align: top;\n",
       "    }\n",
       "\n",
       "    .dataframe thead th {\n",
       "        text-align: right;\n",
       "    }\n",
       "</style>\n",
       "<table border=\"1\" class=\"dataframe\">\n",
       "  <thead>\n",
       "    <tr style=\"text-align: right;\">\n",
       "      <th></th>\n",
       "      <th>place_id</th>\n",
       "      <th>place_type</th>\n",
       "      <th>total_violations</th>\n",
       "    </tr>\n",
       "  </thead>\n",
       "  <tbody>\n",
       "    <tr>\n",
       "      <th>0</th>\n",
       "      <td>region_1</td>\n",
       "      <td>region</td>\n",
       "      <td>2086</td>\n",
       "    </tr>\n",
       "    <tr>\n",
       "      <th>1</th>\n",
       "      <td>district_1</td>\n",
       "      <td>district</td>\n",
       "      <td>1043</td>\n",
       "    </tr>\n",
       "    <tr>\n",
       "      <th>2</th>\n",
       "      <td>station_1</td>\n",
       "      <td>station</td>\n",
       "      <td>209</td>\n",
       "    </tr>\n",
       "    <tr>\n",
       "      <th>3</th>\n",
       "      <td>terminal_1</td>\n",
       "      <td>terminal</td>\n",
       "      <td>209</td>\n",
       "    </tr>\n",
       "    <tr>\n",
       "      <th>4</th>\n",
       "      <td>station_2</td>\n",
       "      <td>station</td>\n",
       "      <td>834</td>\n",
       "    </tr>\n",
       "    <tr>\n",
       "      <th>5</th>\n",
       "      <td>terminal_2</td>\n",
       "      <td>terminal</td>\n",
       "      <td>834</td>\n",
       "    </tr>\n",
       "    <tr>\n",
       "      <th>6</th>\n",
       "      <td>district_2</td>\n",
       "      <td>district</td>\n",
       "      <td>1043</td>\n",
       "    </tr>\n",
       "    <tr>\n",
       "      <th>7</th>\n",
       "      <td>station_3</td>\n",
       "      <td>station</td>\n",
       "      <td>626</td>\n",
       "    </tr>\n",
       "    <tr>\n",
       "      <th>8</th>\n",
       "      <td>terminal_3</td>\n",
       "      <td>terminal</td>\n",
       "      <td>282</td>\n",
       "    </tr>\n",
       "    <tr>\n",
       "      <th>9</th>\n",
       "      <td>terminal_4</td>\n",
       "      <td>terminal</td>\n",
       "      <td>344</td>\n",
       "    </tr>\n",
       "    <tr>\n",
       "      <th>10</th>\n",
       "      <td>station_4</td>\n",
       "      <td>station</td>\n",
       "      <td>417</td>\n",
       "    </tr>\n",
       "    <tr>\n",
       "      <th>11</th>\n",
       "      <td>terminal_5</td>\n",
       "      <td>terminal</td>\n",
       "      <td>417</td>\n",
       "    </tr>\n",
       "    <tr>\n",
       "      <th>12</th>\n",
       "      <td>region_2</td>\n",
       "      <td>region</td>\n",
       "      <td>835</td>\n",
       "    </tr>\n",
       "    <tr>\n",
       "      <th>13</th>\n",
       "      <td>district_3</td>\n",
       "      <td>district</td>\n",
       "      <td>835</td>\n",
       "    </tr>\n",
       "    <tr>\n",
       "      <th>14</th>\n",
       "      <td>station_5</td>\n",
       "      <td>station</td>\n",
       "      <td>276</td>\n",
       "    </tr>\n",
       "    <tr>\n",
       "      <th>15</th>\n",
       "      <td>terminal_6</td>\n",
       "      <td>terminal</td>\n",
       "      <td>141</td>\n",
       "    </tr>\n",
       "    <tr>\n",
       "      <th>16</th>\n",
       "      <td>terminal_7</td>\n",
       "      <td>terminal</td>\n",
       "      <td>135</td>\n",
       "    </tr>\n",
       "    <tr>\n",
       "      <th>17</th>\n",
       "      <td>station_6</td>\n",
       "      <td>station</td>\n",
       "      <td>559</td>\n",
       "    </tr>\n",
       "    <tr>\n",
       "      <th>18</th>\n",
       "      <td>terminal_8</td>\n",
       "      <td>terminal</td>\n",
       "      <td>157</td>\n",
       "    </tr>\n",
       "    <tr>\n",
       "      <th>19</th>\n",
       "      <td>terminal_9</td>\n",
       "      <td>terminal</td>\n",
       "      <td>402</td>\n",
       "    </tr>\n",
       "    <tr>\n",
       "      <th>20</th>\n",
       "      <td>region_3</td>\n",
       "      <td>region</td>\n",
       "      <td>1252</td>\n",
       "    </tr>\n",
       "    <tr>\n",
       "      <th>21</th>\n",
       "      <td>district_4</td>\n",
       "      <td>district</td>\n",
       "      <td>225</td>\n",
       "    </tr>\n",
       "    <tr>\n",
       "      <th>22</th>\n",
       "      <td>station_7</td>\n",
       "      <td>station</td>\n",
       "      <td>225</td>\n",
       "    </tr>\n",
       "    <tr>\n",
       "      <th>23</th>\n",
       "      <td>terminal_10</td>\n",
       "      <td>terminal</td>\n",
       "      <td>68</td>\n",
       "    </tr>\n",
       "    <tr>\n",
       "      <th>24</th>\n",
       "      <td>terminal_11</td>\n",
       "      <td>terminal</td>\n",
       "      <td>90</td>\n",
       "    </tr>\n",
       "    <tr>\n",
       "      <th>25</th>\n",
       "      <td>terminal_12</td>\n",
       "      <td>terminal</td>\n",
       "      <td>68</td>\n",
       "    </tr>\n",
       "    <tr>\n",
       "      <th>26</th>\n",
       "      <td>district_5</td>\n",
       "      <td>district</td>\n",
       "      <td>1027</td>\n",
       "    </tr>\n",
       "    <tr>\n",
       "      <th>27</th>\n",
       "      <td>station_8</td>\n",
       "      <td>station</td>\n",
       "      <td>257</td>\n",
       "    </tr>\n",
       "    <tr>\n",
       "      <th>28</th>\n",
       "      <td>terminal_13</td>\n",
       "      <td>terminal</td>\n",
       "      <td>257</td>\n",
       "    </tr>\n",
       "    <tr>\n",
       "      <th>29</th>\n",
       "      <td>station_9</td>\n",
       "      <td>station</td>\n",
       "      <td>257</td>\n",
       "    </tr>\n",
       "    <tr>\n",
       "      <th>30</th>\n",
       "      <td>terminal_14</td>\n",
       "      <td>terminal</td>\n",
       "      <td>257</td>\n",
       "    </tr>\n",
       "    <tr>\n",
       "      <th>31</th>\n",
       "      <td>station_10</td>\n",
       "      <td>station</td>\n",
       "      <td>514</td>\n",
       "    </tr>\n",
       "    <tr>\n",
       "      <th>32</th>\n",
       "      <td>terminal_15</td>\n",
       "      <td>terminal</td>\n",
       "      <td>514</td>\n",
       "    </tr>\n",
       "  </tbody>\n",
       "</table>\n",
       "</div>"
      ],
      "text/plain": [
       "       place_id place_type  total_violations\n",
       "0      region_1     region              2086\n",
       "1    district_1   district              1043\n",
       "2     station_1    station               209\n",
       "3    terminal_1   terminal               209\n",
       "4     station_2    station               834\n",
       "5    terminal_2   terminal               834\n",
       "6    district_2   district              1043\n",
       "7     station_3    station               626\n",
       "8    terminal_3   terminal               282\n",
       "9    terminal_4   terminal               344\n",
       "10    station_4    station               417\n",
       "11   terminal_5   terminal               417\n",
       "12     region_2     region               835\n",
       "13   district_3   district               835\n",
       "14    station_5    station               276\n",
       "15   terminal_6   terminal               141\n",
       "16   terminal_7   terminal               135\n",
       "17    station_6    station               559\n",
       "18   terminal_8   terminal               157\n",
       "19   terminal_9   terminal               402\n",
       "20     region_3     region              1252\n",
       "21   district_4   district               225\n",
       "22    station_7    station               225\n",
       "23  terminal_10   terminal                68\n",
       "24  terminal_11   terminal                90\n",
       "25  terminal_12   terminal                68\n",
       "26   district_5   district              1027\n",
       "27    station_8    station               257\n",
       "28  terminal_13   terminal               257\n",
       "29    station_9    station               257\n",
       "30  terminal_14   terminal               257\n",
       "31   station_10    station               514\n",
       "32  terminal_15   terminal               514"
      ]
     },
     "execution_count": 3,
     "metadata": {},
     "output_type": "execute_result"
    }
   ],
   "source": [
    "viol_place_df"
   ]
  },
  {
   "cell_type": "code",
   "execution_count": 4,
   "id": "4d821d6f-dbc8-4535-98d3-3682d0826d41",
   "metadata": {},
   "outputs": [],
   "source": [
    "import json\n",
    "\n",
    "driver_patterns = None\n",
    "with open(\"driver_patterns_v0.json\") as json_file:\n",
    "    driver_patterns = json.load(json_file)"
   ]
  },
  {
   "cell_type": "code",
   "execution_count": 5,
   "id": "89891128-0d95-4034-aa20-5007854d61b0",
   "metadata": {},
   "outputs": [
    {
     "data": {
      "text/plain": [
       "{'terminal_1': {'total_violations': 209,\n",
       "  'drivers': {'driver_1': {'total_percentage': 1}}},\n",
       " 'terminal_2': {'total_violations': 834,\n",
       "  'drivers': {'driver_2': {'total_percentage': 0.2},\n",
       "   'driver_3': {'total_percentage': 0.4},\n",
       "   'driver_4': {'total_percentage': 0.4}}},\n",
       " 'terminal_3': {'total_violations': 282,\n",
       "  'drivers': {'driver_5': {'total_percentage': 0.5},\n",
       "   'driver_6': {'total_percentage': 0.2},\n",
       "   'driver_7': {'total_percentage': 0.3}}},\n",
       " 'terminal_4': {'total_violations': 344,\n",
       "  'drivers': {'driver_8': {'total_percentage': 1}}},\n",
       " 'terminal_5': {'total_violations': 417,\n",
       "  'drivers': {'driver_9': {'total_percentage': 1}}},\n",
       " 'terminal_6': {'total_violations': 141,\n",
       "  'drivers': {'driver_10': {'total_percentage': 0.3},\n",
       "   'driver_11': {'total_percentage': 0.4},\n",
       "   'driver_12': {'total_percentage': 0.3}}},\n",
       " 'terminal_7': {'total_violations': 135,\n",
       "  'drivers': {'driver_13': {'total_percentage': 0.4},\n",
       "   'driver_14': {'total_percentage': 0.6}}},\n",
       " 'terminal_8': {'total_violations': 157,\n",
       "  'drivers': {'driver_15': {'total_percentage': 1}}},\n",
       " 'terminal_9': {'total_violations': 402,\n",
       "  'drivers': {'driver_16': {'total_percentage': 0.7},\n",
       "   'driver_17': {'total_percentage': 0.3}}},\n",
       " 'terminal_10': {'total_violations': 68,\n",
       "  'drivers': {'driver_18': {'total_percentage': 1}}},\n",
       " 'terminal_11': {'total_violations': 90,\n",
       "  'drivers': {'driver_19': {'total_percentage': 0.45},\n",
       "   'driver_20': {'total_percentage': 0.55}}},\n",
       " 'terminal_12': {'total_violations': 68,\n",
       "  'drivers': {'driver_21': {'total_percentage': 1}}},\n",
       " 'terminal_13': {'total_violations': 257,\n",
       "  'drivers': {'driver_22': {'total_percentage': 1}}},\n",
       " 'terminal_14': {'total_violations': 257,\n",
       "  'drivers': {'driver_23': {'total_percentage': 0.35},\n",
       "   'driver_24': {'total_percentage': 0.45},\n",
       "   'driver_25': {'total_percentage': 0.2}}},\n",
       " 'terminal_15': {'total_violations': 514,\n",
       "  'drivers': {'driver_26': {'total_percentage': 1}}}}"
      ]
     },
     "execution_count": 5,
     "metadata": {},
     "output_type": "execute_result"
    }
   ],
   "source": [
    "driver_patterns"
   ]
  },
  {
   "cell_type": "code",
   "execution_count": 6,
   "id": "d39c7eb1-cebf-48e5-8219-429b86bc7641",
   "metadata": {},
   "outputs": [],
   "source": [
    "for terminal in driver_patterns:\n",
    "    total_violations = viol_place_df[viol_place_df[\"place_id\"]==terminal].total_violations.values[0]\n",
    "    driver_patterns[terminal][\"total_violations\"] = total_violations"
   ]
  },
  {
   "cell_type": "code",
   "execution_count": 7,
   "id": "663a6dfd-70f6-4f25-9ba0-86c1bd0d9f3e",
   "metadata": {},
   "outputs": [],
   "source": [
    "from copy import deepcopy\n",
    "\n",
    "driver_violations = deepcopy(driver_patterns)\n",
    "\n",
    "for terminal in driver_violations:\n",
    "    terminal_viol = driver_violations[terminal][\"total_violations\"]\n",
    "    for driver in driver_violations[terminal]['drivers']:\n",
    "        viol_per = driver_violations[terminal]['drivers'][driver][\"total_percentage\"]\n",
    "        driver_violations[terminal]['drivers'][driver][\"total_violations\"] = round(terminal_viol * viol_per)"
   ]
  },
  {
   "cell_type": "code",
   "execution_count": 8,
   "id": "d1b5e61c-c2e2-4bcc-a663-8c53a29a92c0",
   "metadata": {},
   "outputs": [
    {
     "data": {
      "text/plain": [
       "{'terminal_1': {'total_violations': 209,\n",
       "  'drivers': {'driver_1': {'total_percentage': 1, 'total_violations': 209}}},\n",
       " 'terminal_2': {'total_violations': 834,\n",
       "  'drivers': {'driver_2': {'total_percentage': 0.2, 'total_violations': 167},\n",
       "   'driver_3': {'total_percentage': 0.4, 'total_violations': 334},\n",
       "   'driver_4': {'total_percentage': 0.4, 'total_violations': 334}}},\n",
       " 'terminal_3': {'total_violations': 282,\n",
       "  'drivers': {'driver_5': {'total_percentage': 0.5, 'total_violations': 141},\n",
       "   'driver_6': {'total_percentage': 0.2, 'total_violations': 56},\n",
       "   'driver_7': {'total_percentage': 0.3, 'total_violations': 85}}},\n",
       " 'terminal_4': {'total_violations': 344,\n",
       "  'drivers': {'driver_8': {'total_percentage': 1, 'total_violations': 344}}},\n",
       " 'terminal_5': {'total_violations': 417,\n",
       "  'drivers': {'driver_9': {'total_percentage': 1, 'total_violations': 417}}},\n",
       " 'terminal_6': {'total_violations': 141,\n",
       "  'drivers': {'driver_10': {'total_percentage': 0.3, 'total_violations': 42},\n",
       "   'driver_11': {'total_percentage': 0.4, 'total_violations': 56},\n",
       "   'driver_12': {'total_percentage': 0.3, 'total_violations': 42}}},\n",
       " 'terminal_7': {'total_violations': 135,\n",
       "  'drivers': {'driver_13': {'total_percentage': 0.4, 'total_violations': 54},\n",
       "   'driver_14': {'total_percentage': 0.6, 'total_violations': 81}}},\n",
       " 'terminal_8': {'total_violations': 157,\n",
       "  'drivers': {'driver_15': {'total_percentage': 1, 'total_violations': 157}}},\n",
       " 'terminal_9': {'total_violations': 402,\n",
       "  'drivers': {'driver_16': {'total_percentage': 0.7, 'total_violations': 281},\n",
       "   'driver_17': {'total_percentage': 0.3, 'total_violations': 121}}},\n",
       " 'terminal_10': {'total_violations': 68,\n",
       "  'drivers': {'driver_18': {'total_percentage': 1, 'total_violations': 68}}},\n",
       " 'terminal_11': {'total_violations': 90,\n",
       "  'drivers': {'driver_19': {'total_percentage': 0.45, 'total_violations': 40},\n",
       "   'driver_20': {'total_percentage': 0.55, 'total_violations': 50}}},\n",
       " 'terminal_12': {'total_violations': 68,\n",
       "  'drivers': {'driver_21': {'total_percentage': 1, 'total_violations': 68}}},\n",
       " 'terminal_13': {'total_violations': 257,\n",
       "  'drivers': {'driver_22': {'total_percentage': 1, 'total_violations': 257}}},\n",
       " 'terminal_14': {'total_violations': 257,\n",
       "  'drivers': {'driver_23': {'total_percentage': 0.35, 'total_violations': 90},\n",
       "   'driver_24': {'total_percentage': 0.45, 'total_violations': 116},\n",
       "   'driver_25': {'total_percentage': 0.2, 'total_violations': 51}}},\n",
       " 'terminal_15': {'total_violations': 514,\n",
       "  'drivers': {'driver_26': {'total_percentage': 1, 'total_violations': 514}}}}"
      ]
     },
     "execution_count": 8,
     "metadata": {},
     "output_type": "execute_result"
    }
   ],
   "source": [
    "driver_violations"
   ]
  },
  {
   "cell_type": "code",
   "execution_count": 9,
   "id": "b753259d-d318-4af9-9967-cd720b2620c5",
   "metadata": {},
   "outputs": [],
   "source": [
    "driver_violation_table = []\n",
    "\n",
    "for terminal in driver_violations:\n",
    "    terminal_viol = driver_violations[terminal][\"total_violations\"]\n",
    "    for driver in driver_violations[terminal]['drivers']:\n",
    "        driver_violation_table.append({\n",
    "            \"driver_id\": driver,\n",
    "            \"total_violations\": driver_violations[terminal]['drivers'][driver][\"total_violations\"]\n",
    "        })"
   ]
  },
  {
   "cell_type": "code",
   "execution_count": 10,
   "id": "51c5d769-7198-4d04-92a8-8e25638a97ba",
   "metadata": {},
   "outputs": [
    {
     "data": {
      "text/plain": [
       "[{'driver_id': 'driver_1', 'total_violations': 209},\n",
       " {'driver_id': 'driver_2', 'total_violations': 167},\n",
       " {'driver_id': 'driver_3', 'total_violations': 334},\n",
       " {'driver_id': 'driver_4', 'total_violations': 334},\n",
       " {'driver_id': 'driver_5', 'total_violations': 141},\n",
       " {'driver_id': 'driver_6', 'total_violations': 56},\n",
       " {'driver_id': 'driver_7', 'total_violations': 85},\n",
       " {'driver_id': 'driver_8', 'total_violations': 344},\n",
       " {'driver_id': 'driver_9', 'total_violations': 417},\n",
       " {'driver_id': 'driver_10', 'total_violations': 42},\n",
       " {'driver_id': 'driver_11', 'total_violations': 56},\n",
       " {'driver_id': 'driver_12', 'total_violations': 42},\n",
       " {'driver_id': 'driver_13', 'total_violations': 54},\n",
       " {'driver_id': 'driver_14', 'total_violations': 81},\n",
       " {'driver_id': 'driver_15', 'total_violations': 157},\n",
       " {'driver_id': 'driver_16', 'total_violations': 281},\n",
       " {'driver_id': 'driver_17', 'total_violations': 121},\n",
       " {'driver_id': 'driver_18', 'total_violations': 68},\n",
       " {'driver_id': 'driver_19', 'total_violations': 40},\n",
       " {'driver_id': 'driver_20', 'total_violations': 50},\n",
       " {'driver_id': 'driver_21', 'total_violations': 68},\n",
       " {'driver_id': 'driver_22', 'total_violations': 257},\n",
       " {'driver_id': 'driver_23', 'total_violations': 90},\n",
       " {'driver_id': 'driver_24', 'total_violations': 116},\n",
       " {'driver_id': 'driver_25', 'total_violations': 51},\n",
       " {'driver_id': 'driver_26', 'total_violations': 514}]"
      ]
     },
     "execution_count": 10,
     "metadata": {},
     "output_type": "execute_result"
    }
   ],
   "source": [
    "driver_violation_table"
   ]
  },
  {
   "cell_type": "code",
   "execution_count": 22,
   "id": "c0a36780-a424-4d70-8095-389436cdaddd",
   "metadata": {},
   "outputs": [
    {
     "data": {
      "text/plain": [
       "[<matplotlib.lines.Line2D at 0x7fc4b3d87d00>]"
      ]
     },
     "execution_count": 22,
     "metadata": {},
     "output_type": "execute_result"
    },
    {
     "data": {
      "image/png": "[encoded data removed]",
      "text/plain": [
       "<Figure size 600x600 with 1 Axes>"
      ]
     },
     "metadata": {},
     "output_type": "display_data"
    }
   ],
   "source": [
    "import numpy as np\n",
    "import matplotlib.pyplot as plt\n",
    "\n",
    "# A custom function to calculate\n",
    "# probability distribution function\n",
    "def pdf(x):\n",
    "    mean = np.mean(x)\n",
    "    std = np.std(x)\n",
    "    y_out = 1/(std * np.sqrt(2 * np.pi)) * np.exp( - (x - mean)**2 / (2 * std**2))\n",
    "    return y_out\n",
    "    \n",
    "# To generate an array of x-values\n",
    "x = np.arange(1, 12, 1)\n",
    "  \n",
    "# To generate an array of\n",
    "# y-values using corresponding x-values\n",
    "y = pdf(x)\n",
    "\n",
    "# sum(y)\n",
    "# Plotting the bell-shaped curve\n",
    "# plt.style.use('seaborn')\n",
    "plt.figure(figsize = (6, 6))\n",
    "plt.plot(x, y)\n",
    "  \n",
    "# # plt.scatter( x, y, marker = 'o', s = 25, color = 'red')\n",
    "# plt.show()"
   ]
  },
  {
   "cell_type": "code",
   "execution_count": 12,
   "id": "48c69dc3-9cb0-4557-b6f5-a275347ba6c2",
   "metadata": {},
   "outputs": [],
   "source": [
    "import random\n",
    "  \n",
    "def random_distribution(count, total=1, sort=False, order='asc'):\n",
    "    r = [random.random() for i in range(count)]\n",
    "    if sort:\n",
    "        r.sort(reverse=True if order == 'desc' else False)\n",
    "    s = sum(r)\n",
    "    r = [ round((i/s)*total, 2) for i in r ]\n",
    "    return r\n",
    "\n"
   ]
  },
  {
   "cell_type": "code",
   "execution_count": 13,
   "id": "76688c1b-7aa4-42ae-a9bf-a9a0aad5274e",
   "metadata": {},
   "outputs": [],
   "source": [
    "months = [i+1 for i in range(12)]\n",
    "hours = [i for i in range(24)]\n",
    "durations = [i+1 for i in range(8)]\n",
    "duration_probs = [0.25, 0.24, 0.21, 0.09, 0.08, 0.07, 0.05, 0.01]\n",
    "month_probs = [0.08, 0.1, 0.07, 0.1, 0.02, 0.08, 0.02, 0.04, 0.09, 0.1, 0.2, 0.1]\n",
    "days_in_months = [31, 28, 31, 30, 31, 30, 31, 31, 30, 31, 30, 31]\n",
    "hours_probs = [0.14, 0.1, 0.02, 0.03, 0.02, 0.03, 0.03, 0.01, 0.0, 0.03, 0.01, 0.02, 0.01, 0.0, 0.03, 0.03, 0.03, 0.0, 0.04, 0.01, 0.03, 0.03, 0.17, 0.18]"
   ]
  },
  {
   "cell_type": "code",
   "execution_count": 14,
   "id": "a50ae383-bd06-4284-9e70-2eed565c3c01",
   "metadata": {},
   "outputs": [],
   "source": [
    "from datetime import datetime, timedelta\n",
    "\n",
    "driver_violation_ranges = []\n",
    "\n",
    "for driver_viol in driver_violation_table:\n",
    "    driver_id = driver_viol[\"driver_id\"]\n",
    "    total_violations = driver_viol[\"total_violations\"]\n",
    "    viol_months = np.random.choice(months, p=month_probs, size=(total_violations))\n",
    "    viol_hours = np.random.choice(hours, p=hours_probs, size=(total_violations))\n",
    "    viol_durations = np.random.choice(durations, p=duration_probs, size=(total_violations))\n",
    "    for i in range(total_violations):\n",
    "        month = viol_months[i]\n",
    "        day =  random.randint(1, days_in_months[month-1])\n",
    "        hour = viol_hours[i]\n",
    "        min = random.randint(0, 50)\n",
    "        start_time = datetime(year=2022, month=month, day=day, hour=hour, minute=min)\n",
    "        duration_hours = viol_durations[i].item()\n",
    "        end_time = start_time + timedelta(hours=duration_hours)\n",
    "        start_time_str = start_time.strftime(\"%Y-%m-%dT%H:%M\")\n",
    "        end_time_str = end_time.strftime(\"%Y-%m-%dT%H:%M\")\n",
    "        driver_violation_ranges.append({\n",
    "            \"driver_id\": driver_id,\n",
    "            \"start\": start_time_str,\n",
    "            \"end\": end_time_str,\n",
    "            \"duration\": duration_hours\n",
    "        })"
   ]
  },
  {
   "cell_type": "code",
   "execution_count": 15,
   "id": "80fbed06-e646-4652-9d1e-6d49ce8227dd",
   "metadata": {},
   "outputs": [],
   "source": [
    "with open(\"./driver_violation_ranges_v0.json\", \"w\") as outfile:\n",
    "    json.dump(driver_violation_ranges, outfile)"
   ]
  },
  {
   "cell_type": "code",
   "execution_count": 16,
   "id": "30d6e6b5-903f-4293-bb4d-7088dade036e",
   "metadata": {},
   "outputs": [],
   "source": [
    "viol_hours = np.random.choice(hours, p=hours_probs, size=(100))"
   ]
  },
  {
   "cell_type": "code",
   "execution_count": 17,
   "id": "44f76895-78bd-4d93-b0e7-709887588f10",
   "metadata": {},
   "outputs": [],
   "source": [
    "unique_values, counts = np.unique(viol_hours, return_counts=True)"
   ]
  },
  {
   "cell_type": "code",
   "execution_count": 18,
   "id": "b02b8148-4908-422f-bec4-6b23fe51a669",
   "metadata": {},
   "outputs": [
    {
     "data": {
      "text/plain": [
       "(array([ 0,  1,  2,  3,  4,  5,  6,  7,  9, 10, 11, 12, 14, 16, 18, 20, 21,\n",
       "        22, 23]),\n",
       " array([16,  6,  4,  3,  5,  2,  2,  1,  4,  2,  2,  3,  2,  2,  6,  3,  1,\n",
       "        20, 16]))"
      ]
     },
     "execution_count": 18,
     "metadata": {},
     "output_type": "execute_result"
    }
   ],
   "source": [
    "unique_values, counts"
   ]
  },
  {
   "cell_type": "code",
   "execution_count": 21,
   "id": "2f6ab705-6745-4451-8d93-5ee4e976ee9e",
   "metadata": {},
   "outputs": [
    {
     "data": {
      "image/png": "[encoded data removed]",
      "text/plain": [
       "<Figure size 800x550 with 1 Axes>"
      ]
     },
     "metadata": {},
     "output_type": "display_data"
    }
   ],
   "source": [
    "import numpy as np\n",
    "import matplotlib.pyplot as plt\n",
    "  \n",
    "# Mean of the distribution\n",
    "Mean = 0\n",
    " \n",
    "# satndard deviation of the distribution\n",
    "Standard_deviation  = 1\n",
    "  \n",
    "# size\n",
    "size = 100000\n",
    "  \n",
    "# creating a normal distribution data\n",
    "values = np.random.normal(Mean, Standard_deviation, size)\n",
    "max_val = values.max()\n",
    "values = values/max_val\n",
    "# plotting histograph\n",
    "plt.hist(values, 100)\n",
    "# plotting mean line\n",
    "plt.axvline(values.mean(), color='k', linestyle='dashed', linewidth=2)\n",
    "plt.show()\n",
    "# plt.style.use('seaborn')\n",
    "# plt.figure(figsize = (6, 6))\n",
    "# y = np.arange(-1, 1, 2/size)\n",
    "# plt.plot(values, y)"
   ]
  },
  {
   "cell_type": "code",
   "execution_count": null,
   "id": "82cc5cf3-019f-4e21-920d-1060e46a1d38",
   "metadata": {},
   "outputs": [],
   "source": []
  },
  {
   "cell_type": "code",
   "execution_count": 62,
   "id": "89931fe6-92bb-449a-bb6f-ef10bcd4e756",
   "metadata": {},
   "outputs": [],
   "source": [
    "# A custom function to calculate\n",
    "# probability distribution function\n",
    "def pdf(x, mean=None):\n",
    "    if mean is None:\n",
    "        mean = np.mean(x)\n",
    "    std = np.std(x)\n",
    "    y_out = 1/(std * np.sqrt(2 * np.pi)) * np.exp( - (x - mean)**2 / (2 * std**2))\n",
    "    return y_out\n",
    "\n",
    "def get_bell_for_week(peak_around_day=4):\n",
    "    x = np.arange(1, 8, 1)\n",
    "    probs = pdf(x, peak_around_day)\n",
    "    s = sum(probs)\n",
    "    diff = (1 - sum(probs))/7\n",
    "    probs += diff\n",
    "    return x, probs\n",
    "\n",
    "def get_bell_for_month(month, year, peak_around_day=23):\n",
    "    is_leap_year = year%4 == 0\n",
    "    if is_leap_year and month == 2:\n",
    "        no_of_days = 29\n",
    "    else:\n",
    "        days_in_months = [21, 28, 31, 30, 31, 30, 31, 31, 30, 31, 30, 31]\n",
    "        no_of_days = days_in_months[month-1]\n",
    "    x = np.arange(1, no_of_days+1, 1)\n",
    "    probs = pdf(x, peak_around_day)\n",
    "    s = sum(probs)\n",
    "    diff = (1 - sum(y))/no_of_days\n",
    "    probs += diff\n",
    "    return x, probs\n",
    "\n",
    "def get_bell_for_year(peak_around_month=11):\n",
    "    x = np.arange(1, 13, 1)\n",
    "    probs = pdf(x, peak_around_month)\n",
    "    s = sum(probs)\n",
    "    diff = (1 - sum(probs))/12\n",
    "    probs += diff\n",
    "    return x, probs\n",
    "\n",
    "def random_distribution(count, total=1, sort=False, order='asc'):\n",
    "    r = [random.random() for i in range(count)]\n",
    "    if sort:\n",
    "        r.sort(reverse=True if order == 'desc' else False)\n",
    "    s = sum(r)\n",
    "    r = [ round((i/s)*total, 2) for i in r ]\n",
    "    return r"
   ]
  },
  {
   "cell_type": "code",
   "execution_count": 63,
   "id": "9f3848de-cf79-4202-9294-d96259853307",
   "metadata": {},
   "outputs": [
    {
     "ename": "NameError",
     "evalue": "name 'random' is not defined",
     "output_type": "error",
     "traceback": [
      "\u001b[0;31m---------------------------------------------------------------------------\u001b[0m",
      "\u001b[0;31mNameError\u001b[0m                                 Traceback (most recent call last)",
      "Cell \u001b[0;32mIn[63], line 2\u001b[0m\n\u001b[1;32m      1\u001b[0m x, y \u001b[38;5;241m=\u001b[39m get_bell_for_week(\u001b[38;5;241m5\u001b[39m)\n\u001b[0;32m----> 2\u001b[0m yr \u001b[38;5;241m=\u001b[39m \u001b[43mrandom_distribution\u001b[49m\u001b[43m(\u001b[49m\u001b[38;5;241;43m7\u001b[39;49m\u001b[43m)\u001b[49m\n\u001b[1;32m      4\u001b[0m \u001b[38;5;66;03m# Plotting the bell-shaped curve\u001b[39;00m\n\u001b[1;32m      5\u001b[0m plt\u001b[38;5;241m.\u001b[39mstyle\u001b[38;5;241m.\u001b[39muse(\u001b[38;5;124m'\u001b[39m\u001b[38;5;124mseaborn\u001b[39m\u001b[38;5;124m'\u001b[39m)\n",
      "Cell \u001b[0;32mIn[62], line 41\u001b[0m, in \u001b[0;36mrandom_distribution\u001b[0;34m(count, total, sort, order)\u001b[0m\n\u001b[1;32m     40\u001b[0m \u001b[38;5;28;01mdef\u001b[39;00m \u001b[38;5;21mrandom_distribution\u001b[39m(count, total\u001b[38;5;241m=\u001b[39m\u001b[38;5;241m1\u001b[39m, sort\u001b[38;5;241m=\u001b[39m\u001b[38;5;28;01mFalse\u001b[39;00m, order\u001b[38;5;241m=\u001b[39m\u001b[38;5;124m'\u001b[39m\u001b[38;5;124masc\u001b[39m\u001b[38;5;124m'\u001b[39m):\n\u001b[0;32m---> 41\u001b[0m     r \u001b[38;5;241m=\u001b[39m [random\u001b[38;5;241m.\u001b[39mrandom() \u001b[38;5;28;01mfor\u001b[39;00m i \u001b[38;5;129;01min\u001b[39;00m \u001b[38;5;28mrange\u001b[39m(count)]\n\u001b[1;32m     42\u001b[0m     \u001b[38;5;28;01mif\u001b[39;00m sort:\n\u001b[1;32m     43\u001b[0m         r\u001b[38;5;241m.\u001b[39msort(reverse\u001b[38;5;241m=\u001b[39m\u001b[38;5;28;01mTrue\u001b[39;00m \u001b[38;5;28;01mif\u001b[39;00m order \u001b[38;5;241m==\u001b[39m \u001b[38;5;124m'\u001b[39m\u001b[38;5;124mdesc\u001b[39m\u001b[38;5;124m'\u001b[39m \u001b[38;5;28;01melse\u001b[39;00m \u001b[38;5;28;01mFalse\u001b[39;00m)\n",
      "Cell \u001b[0;32mIn[62], line 41\u001b[0m, in \u001b[0;36m<listcomp>\u001b[0;34m(.0)\u001b[0m\n\u001b[1;32m     40\u001b[0m \u001b[38;5;28;01mdef\u001b[39;00m \u001b[38;5;21mrandom_distribution\u001b[39m(count, total\u001b[38;5;241m=\u001b[39m\u001b[38;5;241m1\u001b[39m, sort\u001b[38;5;241m=\u001b[39m\u001b[38;5;28;01mFalse\u001b[39;00m, order\u001b[38;5;241m=\u001b[39m\u001b[38;5;124m'\u001b[39m\u001b[38;5;124masc\u001b[39m\u001b[38;5;124m'\u001b[39m):\n\u001b[0;32m---> 41\u001b[0m     r \u001b[38;5;241m=\u001b[39m [\u001b[43mrandom\u001b[49m\u001b[38;5;241m.\u001b[39mrandom() \u001b[38;5;28;01mfor\u001b[39;00m i \u001b[38;5;129;01min\u001b[39;00m \u001b[38;5;28mrange\u001b[39m(count)]\n\u001b[1;32m     42\u001b[0m     \u001b[38;5;28;01mif\u001b[39;00m sort:\n\u001b[1;32m     43\u001b[0m         r\u001b[38;5;241m.\u001b[39msort(reverse\u001b[38;5;241m=\u001b[39m\u001b[38;5;28;01mTrue\u001b[39;00m \u001b[38;5;28;01mif\u001b[39;00m order \u001b[38;5;241m==\u001b[39m \u001b[38;5;124m'\u001b[39m\u001b[38;5;124mdesc\u001b[39m\u001b[38;5;124m'\u001b[39m \u001b[38;5;28;01melse\u001b[39;00m \u001b[38;5;28;01mFalse\u001b[39;00m)\n",
      "\u001b[0;31mNameError\u001b[0m: name 'random' is not defined"
     ]
    }
   ],
   "source": [
    "x, y = get_bell_for_week(5)\n",
    "yr = random_distribution(7)\n",
    "\n",
    "# Plotting the bell-shaped curve\n",
    "plt.style.use('seaborn')\n",
    "plt.figure(figsize = (6, 6))\n",
    "plt.plot(x, y)\n",
    "plt.plot(x, yr, color='r')\n",
    "sum(y)"
   ]
  },
  {
   "cell_type": "code",
   "execution_count": 58,
   "id": "b67653c7-4839-4d66-a0ff-850f1170e575",
   "metadata": {},
   "outputs": [
    {
     "name": "stderr",
     "output_type": "stream",
     "text": [
      "/tmp/ipykernel_8354/563262135.py:4: MatplotlibDeprecationWarning: The seaborn styles shipped by Matplotlib are deprecated since 3.6, as they no longer correspond to the styles shipped by seaborn. However, they will remain available as 'seaborn-v0_8-<style>'. Alternatively, directly use the seaborn API instead.\n",
      "  plt.style.use('seaborn')\n"
     ]
    },
    {
     "data": {
      "text/plain": [
       "0.9165641725240911"
      ]
     },
     "execution_count": 58,
     "metadata": {},
     "output_type": "execute_result"
    },
    {
     "data": {
      "image/png": "[encoded data removed]",
      "text/plain": [
       "<Figure size 600x600 with 1 Axes>"
      ]
     },
     "metadata": {},
     "output_type": "display_data"
    }
   ],
   "source": [
    "x, y = get_bell_for_month(11, 2022, 16)\n",
    "\n",
    "# Plotting the bell-shaped curve\n",
    "plt.style.use('seaborn')\n",
    "plt.figure(figsize = (6, 6))\n",
    "plt.plot(x, y)\n",
    "sum(y)"
   ]
  },
  {
   "cell_type": "code",
   "execution_count": 60,
   "id": "ac6f7c8e-0f11-4b70-bf9d-e7b5f5b7b40e",
   "metadata": {},
   "outputs": [
    {
     "name": "stderr",
     "output_type": "stream",
     "text": [
      "/tmp/ipykernel_8354/1896235111.py:4: MatplotlibDeprecationWarning: The seaborn styles shipped by Matplotlib are deprecated since 3.6, as they no longer correspond to the styles shipped by seaborn. However, they will remain available as 'seaborn-v0_8-<style>'. Alternatively, directly use the seaborn API instead.\n",
      "  plt.style.use('seaborn')\n"
     ]
    },
    {
     "data": {
      "text/plain": [
       "1.0000000000000002"
      ]
     },
     "execution_count": 60,
     "metadata": {},
     "output_type": "execute_result"
    },
    {
     "data": {
      "image/png": "[encoded data removed]",
      "text/plain": [
       "<Figure size 600x600 with 1 Axes>"
      ]
     },
     "metadata": {},
     "output_type": "display_data"
    }
   ],
   "source": [
    "x, y = get_bell_for_year()\n",
    "\n",
    "# Plotting the bell-shaped curve\n",
    "plt.style.use('seaborn')\n",
    "plt.figure(figsize = (6, 6))\n",
    "plt.plot(x, y)\n",
    "sum(y)"
   ]
  },
  {
   "cell_type": "code",
   "execution_count": 45,
   "id": "a9d30104-3a53-487a-804d-1c10d5e4edfc",
   "metadata": {},
   "outputs": [
    {
     "data": {
      "text/plain": [
       "0.016391219997142856"
      ]
     },
     "execution_count": 45,
     "metadata": {},
     "output_type": "execute_result"
    }
   ],
   "source": []
  },
  {
   "cell_type": "code",
   "execution_count": null,
   "id": "0411364b-0bcc-445c-9319-d5089d1c877e",
   "metadata": {},
   "outputs": [],
   "source": []
  }
 ],
 "metadata": {
  "kernelspec": {
   "display_name": "Python 3 (ipykernel)",
   "language": "python",
   "name": "python3"
  },
  "language_info": {
   "codemirror_mode": {
    "name": "ipython",
    "version": 3
   },
   "file_extension": ".py",
   "mimetype": "text/x-python",
   "name": "python",
   "nbconvert_exporter": "python",
   "pygments_lexer": "ipython3",
   "version": "3.10.12"
  }
 },
 "nbformat": 4,
 "nbformat_minor": 5
}
